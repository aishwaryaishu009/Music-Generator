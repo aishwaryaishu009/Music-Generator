{
  "nbformat": 4,
  "nbformat_minor": 0,
  "metadata": {
    "colab": {
      "provenance": [],
      "authorship_tag": "ABX9TyOpmIY/SvboGejMi4ki+AyT",
      "include_colab_link": true
    },
    "kernelspec": {
      "name": "python3",
      "display_name": "Python 3"
    },
    "language_info": {
      "name": "python"
    }
  },
  "cells": [
    {
      "cell_type": "markdown",
      "metadata": {
        "id": "view-in-github",
        "colab_type": "text"
      },
      "source": [
        "<a href=\"https://colab.research.google.com/github/karamthodishh/Music-Generator/blob/main/RNN_project.ipynb\" target=\"_parent\"><img src=\"https://colab.research.google.com/assets/colab-badge.svg\" alt=\"Open In Colab\"/></a>"
      ]
    },
    {
      "cell_type": "code",
      "execution_count": 1,
      "metadata": {
        "id": "ojGyUjHubplP"
      },
      "outputs": [],
      "source": [
        "import numpy as np\n",
        "import matplotlib.pyplot as plt\n",
        "from keras.models import Sequential\n",
        "from keras.layers import LSTM, Dense, Dropout\n",
        "from keras.optimizers import Adam\n",
        "from tensorflow.keras.preprocessing.sequence import pad_sequences\n",
        "from music21 import converter, instrument, note"
      ]
    },
    {
      "cell_type": "code",
      "source": [
        "file_path = '/content/maestro-v3.0.0-midi (2).zip/2015/'\n",
        "\n",
        "def load_data(file_path):\n",
        "    music = converter.parse(file_path)\n",
        "\n",
        "    # Extract the notes\n",
        "    note_sequence = []\n",
        "    for note in music.flat.notes:\n",
        "        if isinstance(note, chord.Chord):\n",
        "            for pitch in note.pitches:\n",
        "                note_sequence.append(pitch.midi)\n",
        "        else:\n",
        "            note_sequence.append(note.pitch.midi)\n",
        "\n",
        "    return note_sequence\n",
        "\n"
      ],
      "metadata": {
        "id": "bCgTVdJjb3v0"
      },
      "execution_count": 2,
      "outputs": []
    },
    {
      "cell_type": "code",
      "source": [
        "def save_data(note_sequence, file_path):\n",
        "    # Create a music21 stream\n",
        "    music_stream = music21.stream.Stream()\n",
        "\n",
        "    # Create a note object for each pitch\n",
        "    for pitch in note_sequence:\n",
        "        note = music21.note.Note(midi=pitch)\n",
        "        music_stream.append(note)\n",
        "\n",
        "    # Write the stream to a MIDI file\n",
        "    music_stream.write('midi', fp=file_path)"
      ],
      "metadata": {
        "id": "o5_GZdPFb9rq"
      },
      "execution_count": 3,
      "outputs": []
    },
    {
      "cell_type": "code",
      "source": [
        "def preprocess_data(note_sequence, sequence_length):\n",
        "    # Create a list of input sequences and target notes\n",
        "    sequences = []\n",
        "    notes = []\n",
        "\n",
        "    # For each note in the sequence\n",
        "    for i in range(len(note_sequence) - sequence_length):\n",
        "        sequences.append(note_sequence[i:i + sequence_length])\n",
        "        notes.append(note_sequence[i + sequence_length])\n",
        "\n",
        "    # Pad the sequences to the maximum length\n",
        "    sequences = np.array(sequences)\n",
        "    notes = np.array(notes)\n",
        "\n",
        "    return sequences, notes"
      ],
      "metadata": {
        "id": "Zb2omH9zcB3U"
      },
      "execution_count": 4,
      "outputs": []
    },
    {
      "cell_type": "code",
      "source": [
        "def create_model(input_shape, num_notes):\n",
        "    model = Sequential()\n",
        "    model.add(LSTM(256, input_shape=input_shape, return_sequences=True))\n",
        "    model.add(Dropout(0.3))\n",
        "    model.add(LSTM(256, return_sequences=True))\n",
        "    model.add(Dropout(0.3))\n",
        "    model.add(LSTM(256))\n",
        "    model.add(Dropout(0.3))\n",
        "    model.add(Dense(num_notes, activation='softmax'))\n",
        "\n",
        "    # Compile the model\n",
        "    model.compile(optimizer=Adam(), loss='categorical_crossentropy')\n",
        "\n",
        "    return model"
      ],
      "metadata": {
        "id": "LMQzaMGYcHSa"
      },
      "execution_count": 5,
      "outputs": []
    },
    {
      "cell_type": "code",
      "source": [
        "def train_model(model, sequences, notes, epochs=200, batch_size=64):\n",
        "    # Create the training data\n",
        "    training_data = sequences[:-1]\n",
        "    target_notes = notes[:-1]\n",
        "\n",
        "    # Train the model\n",
        "    model.fit(training_data, target_notes, epochs=epochs, batch_size=batch_size)"
      ],
      "metadata": {
        "id": "PhAuW7ewcMOX"
      },
      "execution_count": 6,
      "outputs": []
    },
    {
      "cell_type": "code",
      "source": [
        "def generate_music(model, seed_sequence, sequence_length, num_notes):\n",
        "    generated_sequence = list(seed_sequence)\n",
        "\n",
        "    for _ in range(num_steps):\n",
        "        # Prepare the input sequence\n",
        "        input_sequence = np.array(seed_sequence[-sequence_length:]).reshape(1, -1)\n",
        "\n",
        "        # Predict the next note\n",
        "        predicted_note = model.predict(input_sequence, verbose=0)\n",
        "\n",
        "        # Sample the next note using the predicted probabilities\n",
        "        next_note = np.random.choice(num_notes, p=predicted_note[0])\n",
        "\n",
        "        # Append the new note to the generated sequence\n",
        "        generated_sequence.append(next_note)\n",
        "\n",
        "    return generated_sequence"
      ],
      "metadata": {
        "id": "XA_SEC0scT6L"
      },
      "execution_count": 7,
      "outputs": []
    },
    {
      "cell_type": "code",
      "source": [
        "!pip install mido"
      ],
      "metadata": {
        "colab": {
          "base_uri": "https://localhost:8080/"
        },
        "id": "PwE6CG4IcYP7",
        "outputId": "87806c6c-0b0b-45f6-fe5e-5ced7f5ad60e"
      },
      "execution_count": 8,
      "outputs": [
        {
          "output_type": "stream",
          "name": "stdout",
          "text": [
            "Collecting mido\n",
            "  Downloading mido-1.3.2-py3-none-any.whl (54 kB)\n",
            "\u001b[?25l     \u001b[90m━━━━━━━━━━━━━━━━━━━━━━━━━━━━━━━━━━━━━━━━\u001b[0m \u001b[32m0.0/54.6 kB\u001b[0m \u001b[31m?\u001b[0m eta \u001b[36m-:--:--\u001b[0m\r\u001b[2K     \u001b[90m━━━━━━━━━━━━━━━━━━━━━━━━━━━━━━━━━━━━━━━━\u001b[0m \u001b[32m54.6/54.6 kB\u001b[0m \u001b[31m1.9 MB/s\u001b[0m eta \u001b[36m0:00:00\u001b[0m\n",
            "\u001b[?25hRequirement already satisfied: packaging~=23.1 in /usr/local/lib/python3.10/dist-packages (from mido) (23.2)\n",
            "Installing collected packages: mido\n",
            "Successfully installed mido-1.3.2\n"
          ]
        }
      ]
    },
    {
      "cell_type": "code",
      "source": [
        "!pip install Chord"
      ],
      "metadata": {
        "colab": {
          "base_uri": "https://localhost:8080/"
        },
        "id": "0uSLZcKMccFD",
        "outputId": "974f6293-522b-4ae6-e89a-bf98aa44a92d"
      },
      "execution_count": 9,
      "outputs": [
        {
          "output_type": "stream",
          "name": "stdout",
          "text": [
            "Collecting Chord\n",
            "  Downloading chord-6.0.1-py3-none-any.whl (7.0 kB)\n",
            "Installing collected packages: Chord\n",
            "Successfully installed Chord-6.0.1\n"
          ]
        }
      ]
    },
    {
      "cell_type": "code",
      "source": [
        "import mido\n",
        "import numpy as np\n",
        "\n",
        "class Chord:\n",
        "    def __init__(self, notes, name, duration):\n",
        "        self.notes = notes\n",
        "        self.name = name\n",
        "        self.duration = duration\n",
        "\n",
        "def preprocess_data(note_sequence, sequence_length):\n",
        "    sequences = np.zeros((len(note_sequence) // sequence_length, sequence_length, 2))\n",
        "    notes = np.zeros((len(note_sequence) // sequence_length, sequence_length, 2))\n",
        "\n",
        "    for i in range(0, len(note_sequence), sequence_length):\n",
        "        sequence_end = i + sequence_length\n",
        "\n",
        "        if sequence_end > len(note_sequence):\n",
        "            sequence_end = len(note_sequence)\n",
        "\n",
        "        sequences[i // sequence_length, :sequence_end - i] = [[note.time, note.data] for note in note_sequence[i:sequence_end] if isinstance(note, mido.Message) and note.type == 'note_on']\n",
        "        notes[i // sequence_length, :sequence_end - i] = [[note.time, note.data] for note in note_sequence[i:sequence_end] if isinstance(note, mido.Message) and note.type == 'note_on']\n",
        "\n",
        "    return sequences, notes"
      ],
      "metadata": {
        "id": "ZM9Z8pAocmXS"
      },
      "execution_count": 10,
      "outputs": []
    },
    {
      "cell_type": "code",
      "source": [
        "def generate_chords(note_sequence):\n",
        "    chords = []\n",
        "    current_chord = None\n",
        "\n",
        "    for note in note_sequence:\n",
        "        if isinstance(note, mido.Message) and note.type == 'note_on':\n",
        "            if current_chord is None:\n",
        "                current_chord = Chord([note.note], \"major\", note.time)\n",
        "            elif current_chord.duration == note.time:\n",
        "                current_chord.notes.append(note.note)\n",
        "            else:\n",
        "                chords.append(current_chord)\n",
        "                current_chord = Chord([note.note], \"major\", note.time)\n",
        "        elif isinstance(note, mido.Message) and note.type == 'note_off':\n",
        "            if current_chord is not None:\n",
        "                current_chord.duration = note.time\n",
        "                chords.append(current_chord)\n",
        "                current_chord = None\n",
        "\n",
        "    return chords"
      ],
      "metadata": {
        "id": "7zBdCfwUctEz"
      },
      "execution_count": 11,
      "outputs": []
    },
    {
      "cell_type": "code",
      "source": [
        "def pitch_to_pc(pitch):\n",
        "    octave = pitch // 12 - 1\n",
        "    note = pitch % 12\n",
        "    return note + 12 * octave"
      ],
      "metadata": {
        "id": "IuP4eDzbc0b4"
      },
      "execution_count": 12,
      "outputs": []
    },
    {
      "cell_type": "code",
      "source": [
        "import mido\n",
        "\n",
        "def generate_music_file(chords, filename):\n",
        "    mid = mido.MidiFile()\n",
        "    track = mido.MidiTrack()\n",
        "    mid.tracks.append(track)\n",
        "\n",
        "    for chord in chords:\n",
        "        for note in chord.notes:\n",
        "            track.append(mido.Message('note_on', note=pc_to_pitch(note), velocity=127, time=chord.start_time))\n",
        "            track.append(mido.Message('note_off', note=pc_to_pitch(note), velocity=127, time=chord.end_time))\n",
        "\n",
        "    mid.save(filename)"
      ],
      "metadata": {
        "id": "ZkUuFbHDc57w"
      },
      "execution_count": 13,
      "outputs": []
    },
    {
      "cell_type": "code",
      "source": [
        "!pip install pretty_midi"
      ],
      "metadata": {
        "colab": {
          "base_uri": "https://localhost:8080/"
        },
        "id": "jvZ1qguKdCNm",
        "outputId": "ad8d32e6-0e28-4d8a-a458-a1f81a9365ce"
      },
      "execution_count": 14,
      "outputs": [
        {
          "output_type": "stream",
          "name": "stdout",
          "text": [
            "Collecting pretty_midi\n",
            "  Downloading pretty_midi-0.2.10.tar.gz (5.6 MB)\n",
            "\u001b[2K     \u001b[90m━━━━━━━━━━━━━━━━━━━━━━━━━━━━━━━━━━━━━━━━\u001b[0m \u001b[32m5.6/5.6 MB\u001b[0m \u001b[31m15.5 MB/s\u001b[0m eta \u001b[36m0:00:00\u001b[0m\n",
            "\u001b[?25h  Preparing metadata (setup.py) ... \u001b[?25l\u001b[?25hdone\n",
            "Requirement already satisfied: numpy>=1.7.0 in /usr/local/lib/python3.10/dist-packages (from pretty_midi) (1.25.2)\n",
            "Requirement already satisfied: mido>=1.1.16 in /usr/local/lib/python3.10/dist-packages (from pretty_midi) (1.3.2)\n",
            "Requirement already satisfied: six in /usr/local/lib/python3.10/dist-packages (from pretty_midi) (1.16.0)\n",
            "Requirement already satisfied: packaging~=23.1 in /usr/local/lib/python3.10/dist-packages (from mido>=1.1.16->pretty_midi) (23.2)\n",
            "Building wheels for collected packages: pretty_midi\n",
            "  Building wheel for pretty_midi (setup.py) ... \u001b[?25l\u001b[?25hdone\n",
            "  Created wheel for pretty_midi: filename=pretty_midi-0.2.10-py3-none-any.whl size=5592284 sha256=44590bfd1546e7ef60255aa918e2b9d1086140e0dbee9f029ee43c3268bd1f7b\n",
            "  Stored in directory: /root/.cache/pip/wheels/cd/a5/30/7b8b7f58709f5150f67f98fde4b891ebf0be9ef07a8af49f25\n",
            "Successfully built pretty_midi\n",
            "Installing collected packages: pretty_midi\n",
            "Successfully installed pretty_midi-0.2.10\n"
          ]
        }
      ]
    },
    {
      "cell_type": "code",
      "source": [
        "!pip install Note"
      ],
      "metadata": {
        "colab": {
          "base_uri": "https://localhost:8080/"
        },
        "id": "wqzal8IbdQw2",
        "outputId": "9682aa34-deab-4419-d94f-ba88132636e2"
      },
      "execution_count": 15,
      "outputs": [
        {
          "output_type": "stream",
          "name": "stdout",
          "text": [
            "Collecting Note\n",
            "  Downloading note-0.5.2.tar.gz (37 kB)\n",
            "  Preparing metadata (setup.py) ... \u001b[?25l\u001b[?25hdone\n",
            "Collecting pymongo (from Note)\n",
            "  Downloading pymongo-4.6.2-cp310-cp310-manylinux_2_17_x86_64.manylinux2014_x86_64.whl (677 kB)\n",
            "\u001b[2K     \u001b[90m━━━━━━━━━━━━━━━━━━━━━━━━━━━━━━━━━━━━━━━━\u001b[0m \u001b[32m677.2/677.2 kB\u001b[0m \u001b[31m13.5 MB/s\u001b[0m eta \u001b[36m0:00:00\u001b[0m\n",
            "\u001b[?25hRequirement already satisfied: tornado in /usr/local/lib/python3.10/dist-packages (from Note) (6.3.2)\n",
            "Requirement already satisfied: pyzmq>=14.3.1 in /usr/local/lib/python3.10/dist-packages (from Note) (23.2.1)\n",
            "Requirement already satisfied: markdown in /usr/local/lib/python3.10/dist-packages (from Note) (3.5.2)\n",
            "Requirement already satisfied: flask in /usr/local/lib/python3.10/dist-packages (from Note) (2.2.5)\n",
            "Collecting mock (from Note)\n",
            "  Downloading mock-5.1.0-py3-none-any.whl (30 kB)\n",
            "Collecting dateparser (from Note)\n",
            "  Downloading dateparser-1.2.0-py2.py3-none-any.whl (294 kB)\n",
            "\u001b[2K     \u001b[90m━━━━━━━━━━━━━━━━━━━━━━━━━━━━━━━━━━━━━━━━\u001b[0m \u001b[32m295.0/295.0 kB\u001b[0m \u001b[31m20.6 MB/s\u001b[0m eta \u001b[36m0:00:00\u001b[0m\n",
            "\u001b[?25hRequirement already satisfied: click in /usr/local/lib/python3.10/dist-packages (from Note) (8.1.7)\n",
            "Collecting python-daemon (from Note)\n",
            "  Downloading python_daemon-3.0.1-py3-none-any.whl (31 kB)\n",
            "Collecting lockfile (from Note)\n",
            "  Downloading lockfile-0.12.2-py2.py3-none-any.whl (13 kB)\n",
            "Requirement already satisfied: docutils in /usr/local/lib/python3.10/dist-packages (from Note) (0.18.1)\n",
            "Requirement already satisfied: python-dateutil in /usr/local/lib/python3.10/dist-packages (from dateparser->Note) (2.8.2)\n",
            "Requirement already satisfied: pytz in /usr/local/lib/python3.10/dist-packages (from dateparser->Note) (2023.4)\n",
            "Requirement already satisfied: regex!=2019.02.19,!=2021.8.27 in /usr/local/lib/python3.10/dist-packages (from dateparser->Note) (2023.12.25)\n",
            "Requirement already satisfied: tzlocal in /usr/local/lib/python3.10/dist-packages (from dateparser->Note) (5.2)\n",
            "Requirement already satisfied: Werkzeug>=2.2.2 in /usr/local/lib/python3.10/dist-packages (from flask->Note) (3.0.1)\n",
            "Requirement already satisfied: Jinja2>=3.0 in /usr/local/lib/python3.10/dist-packages (from flask->Note) (3.1.3)\n",
            "Requirement already satisfied: itsdangerous>=2.0 in /usr/local/lib/python3.10/dist-packages (from flask->Note) (2.1.2)\n",
            "Collecting dnspython<3.0.0,>=1.16.0 (from pymongo->Note)\n",
            "  Downloading dnspython-2.6.1-py3-none-any.whl (307 kB)\n",
            "\u001b[2K     \u001b[90m━━━━━━━━━━━━━━━━━━━━━━━━━━━━━━━━━━━━━━━━\u001b[0m \u001b[32m307.7/307.7 kB\u001b[0m \u001b[31m23.5 MB/s\u001b[0m eta \u001b[36m0:00:00\u001b[0m\n",
            "\u001b[?25hRequirement already satisfied: setuptools>=62.4.0 in /usr/local/lib/python3.10/dist-packages (from python-daemon->Note) (67.7.2)\n",
            "Requirement already satisfied: MarkupSafe>=2.0 in /usr/local/lib/python3.10/dist-packages (from Jinja2>=3.0->flask->Note) (2.1.5)\n",
            "Requirement already satisfied: six>=1.5 in /usr/local/lib/python3.10/dist-packages (from python-dateutil->dateparser->Note) (1.16.0)\n",
            "Building wheels for collected packages: Note\n",
            "  Building wheel for Note (setup.py) ... \u001b[?25l\u001b[?25hdone\n",
            "  Created wheel for Note: filename=note-0.5.2-py2.py3-none-any.whl size=27083 sha256=4df14f73e50bcc47d7c043e1dd5c2d3ca76e7f3ba1f028fc2e196b0bc866c11f\n",
            "  Stored in directory: /root/.cache/pip/wheels/57/2b/fb/8b503b1708d77aa7b13c1e9ac70bdb4dc5c8bace191b678753\n",
            "Successfully built Note\n",
            "Installing collected packages: lockfile, python-daemon, mock, dnspython, pymongo, dateparser, Note\n",
            "Successfully installed Note-0.5.2 dateparser-1.2.0 dnspython-2.6.1 lockfile-0.12.2 mock-5.1.0 pymongo-4.6.2 python-daemon-3.0.1\n"
          ]
        }
      ]
    },
    {
      "cell_type": "code",
      "source": [
        "pip install --upgrade pretty_midi"
      ],
      "metadata": {
        "colab": {
          "base_uri": "https://localhost:8080/"
        },
        "id": "VfJCbIzwdRjp",
        "outputId": "86526a12-2d3c-45b7-9fd6-c284951726de"
      },
      "execution_count": 16,
      "outputs": [
        {
          "output_type": "stream",
          "name": "stdout",
          "text": [
            "Requirement already satisfied: pretty_midi in /usr/local/lib/python3.10/dist-packages (0.2.10)\n",
            "Requirement already satisfied: numpy>=1.7.0 in /usr/local/lib/python3.10/dist-packages (from pretty_midi) (1.25.2)\n",
            "Requirement already satisfied: mido>=1.1.16 in /usr/local/lib/python3.10/dist-packages (from pretty_midi) (1.3.2)\n",
            "Requirement already satisfied: six in /usr/local/lib/python3.10/dist-packages (from pretty_midi) (1.16.0)\n",
            "Requirement already satisfied: packaging~=23.1 in /usr/local/lib/python3.10/dist-packages (from mido>=1.1.16->pretty_midi) (23.2)\n"
          ]
        }
      ]
    },
    {
      "cell_type": "code",
      "source": [
        "def notes_to_chord(notes, duration):\n",
        "  \"\"\"Converts a list of notes and durations to a PrettyMIDI Chord object.\n",
        "\n",
        "  Args:\n",
        "    notes: A list of notes in the range [0, 127].\n",
        "    duration: The duration of the chord in beats.\n",
        "\n",
        "  Returns:\n",
        "    A PrettyMIDI Chord object.\n",
        "  \"\"\"\n",
        "\n",
        "  chord = pm.Chord(notes, duration)\n",
        "  return chord"
      ],
      "metadata": {
        "id": "gU3b6RiOdXkP"
      },
      "execution_count": 17,
      "outputs": []
    },
    {
      "cell_type": "code",
      "source": [
        "note_to_midi = {\n",
        "    'C0': 12, 'D0': 14, 'E0': 16, 'F0': 17, 'G0': 19, 'A0': 21, 'B0': 23,\n",
        "    'C1': 24, 'D1': 26, 'E1': 28, 'F1': 29, 'G1': 31, 'A1': 33, 'B1': 35,\n",
        "    'C2': 36, 'D2': 38, 'E2': 40, 'F2': 41, 'G2': 43, 'A2': 45, 'B2': 47,\n",
        "    'C3': 48, 'D3': 50, 'E3': 52, 'F3': 53, 'G3': 55, 'A3': 57, 'B3': 59,\n",
        "    'C4': 60, 'D4': 62, 'E4': 64, 'F4': 65, 'G4': 67, 'A4': 69, 'B4': 71,\n",
        "    'C5': 72, 'D5': 74, 'E5': 76, 'F5': 77, 'G5': 79, 'A5': 81, 'B5': 83,\n",
        "    'C6': 84, 'D6': 86, 'E6': 88, 'F6': 89, 'G6': 91, 'A6': 93, 'B6': 95,\n",
        "    'C7': 96, 'D7': 98, 'E7': 100, 'F7': 101, 'G7': 103, 'A7': 105, 'B7': 107,\n",
        "    'C8': 108, 'D8': 110, 'E8': 112, 'F8': 113, 'G8': 115, 'A8': 117, 'B8': 119,\n",
        "    'C9': 120, 'D9': 122, 'E9': 124, 'F9': 125, 'G9': 127\n",
        "}\n",
        "\n",
        "def note_name_to_midi(note):\n",
        "    return note_to_midi[note]\n",
        "\n",
        "def create_chord(root, chord_type):\n",
        "    chord = []\n",
        "    if chord_type == 'maj':\n",
        "        chord = [root, root + 'm', root + 'M']\n",
        "    elif chord_type == 'min':\n",
        "        chord = [root, root + 'm', root + 'M']\n",
        "    elif chord_type == 'dim':\n",
        "        chord = [root, root + 'dim', root + 'M']\n",
        "    elif chord_type == 'aug':\n",
        "        chord = [root, root + 'm', root + 'M']\n",
        "    return chord\n",
        "\n",
        "def generate_notes(scale, chord_types):\n",
        "    notes = []\n",
        "    for chord_type in chord_types:\n",
        "        for note in scale:\n",
        "            notes.extend(create_chord(note, chord_type))\n",
        "    return notes\n",
        "\n",
        "scale = ['C4', 'D4', 'E4', 'F4', 'G4', 'A4', 'B4']\n",
        "chord_types = ['maj', 'min', 'dim', 'aug']\n",
        "notes = generate_notes(scale, chord_types)\n",
        "\n",
        "print(13.0)\n",
        "print(14.0)\n",
        "print(15.0)\n",
        "print(16.0)"
      ],
      "metadata": {
        "colab": {
          "base_uri": "https://localhost:8080/"
        },
        "id": "V21U1FV2dln3",
        "outputId": "4f02fd2d-10d1-4d38-cfa0-cbc030a67f83"
      },
      "execution_count": 18,
      "outputs": [
        {
          "output_type": "stream",
          "name": "stdout",
          "text": [
            "13.0\n",
            "14.0\n",
            "15.0\n",
            "16.0\n"
          ]
        }
      ]
    },
    {
      "cell_type": "code",
      "source": [
        "import mido\n",
        "\n",
        "# Define the notes of the chord\n",
        "notes = ['C0', 'E1', 'G2','A3','B4']\n",
        "\n",
        "# Create a chord from the notes\n",
        "chord = mido.MidiFile()\n",
        "chord.ticks_per_beat = 480\n",
        "track = mido.MidiTrack()\n",
        "chord.tracks.append(track)\n",
        "\n",
        "for note in notes:\n",
        "    track.append(mido.Message('note_on', note=note_name_to_midi(note), velocity=100, time=0))\n",
        "    track.append(mido.Message('note_off', note=note_name_to_midi(note), velocity=100, time=480))\n",
        "\n",
        "# Save the chord to a MIDI file\n",
        "chord.save('chord.mid')"
      ],
      "metadata": {
        "id": "57hMqWUkdsvv"
      },
      "execution_count": 19,
      "outputs": []
    },
    {
      "cell_type": "code",
      "source": [],
      "metadata": {
        "id": "ek50_neGdzc2"
      },
      "execution_count": null,
      "outputs": []
    }
  ]
}